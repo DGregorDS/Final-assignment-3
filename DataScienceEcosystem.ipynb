{
 "cells": [
  {
   "cell_type": "markdown",
   "id": "9dd2e831-3c94-442c-8bc6-97d2784e2e21",
   "metadata": {},
   "source": [
    "# Data Science Tools and Ecosystem\n"
   ]
  },
  {
   "cell_type": "markdown",
   "id": "0b1594e1-583c-4860-b877-a4be4c3d1d02",
   "metadata": {},
   "source": [
    "In this notebook, Data Science Tools and Ecosystem are summarized."
   ]
  },
  {
   "cell_type": "markdown",
   "id": "8d0e7d71-51ba-4949-9497-8a17bd690a22",
   "metadata": {},
   "source": [
    "## **Objetives**:\n",
    "\n",
    "* List popular languages for Data Science\n",
    "* List of commonly libraries in Data Science\n",
    "* Examples of arithmetic in python"
   ]
  },
  {
   "cell_type": "markdown",
   "id": "ffbde2f0-1cc7-4d72-baeb-2939e8ef2737",
   "metadata": {},
   "source": [
    "Some of the popular languages that Data Scientists use are:\n",
    "1. Python \n",
    "2. Julia\n",
    "3. R\n",
    "4. SQL"
   ]
  },
  {
   "cell_type": "markdown",
   "id": "404b1038-4032-4259-a0e7-505117235d9b",
   "metadata": {},
   "source": [
    "Some of the commonly used libraries used by Data Scientists include:\n",
    "\n",
    "1. scikit-learn\n",
    "2. matplotlib\n",
    "3. keras\n",
    "4. tensorflow\n",
    "5. pandas"
   ]
  },
  {
   "cell_type": "markdown",
   "id": "8c7ad3ca-bed6-47ed-b5ba-0a54af77d691",
   "metadata": {},
   "source": [
    "| *Data Science Tools* | \n",
    "|:-------------:|\n",
    "|     RStudio     |\n",
    "|     Hadoop     |\n",
    "|      Jupyterlab     |"
   ]
  },
  {
   "cell_type": "markdown",
   "id": "12ea1e68-ab9f-48dc-af03-923c6199238c",
   "metadata": {
    "tags": []
   },
   "source": [
    "### Below are a few examples of evaluating arithmetic expressions in Python"
   ]
  },
  {
   "cell_type": "code",
   "execution_count": 2,
   "id": "8b687f99-8596-49a2-bdf7-5885263ea6c8",
   "metadata": {
    "tags": []
   },
   "outputs": [
    {
     "name": "stdout",
     "output_type": "stream",
     "text": [
      "The result is:  17\n"
     ]
    }
   ],
   "source": [
    "x = (3*4)+5\n",
    "print('The result is: ', x)\n",
    "#This a simple arithmetic expression to mutiply then add integers"
   ]
  },
  {
   "cell_type": "code",
   "execution_count": 3,
   "id": "627c0872-2780-4763-bfd6-a7e719f0a65b",
   "metadata": {
    "tags": []
   },
   "outputs": [
    {
     "name": "stdout",
     "output_type": "stream",
     "text": [
      "The amount of hours in 200 minutes time interval:  3.3333333333333335\n"
     ]
    }
   ],
   "source": [
    "#This will convert 200 minutes to hours by diving by 60\n",
    "minutes = 200\n",
    "min_in_hour = 60\n",
    "print('The amount of hours in 200 minutes time interval: ', minutes/min_in_hour)"
   ]
  },
  {
   "cell_type": "markdown",
   "id": "f586e34c-1085-43b8-8250-10ba27e1b3e0",
   "metadata": {},
   "source": [
    "## Author:\n",
    "David Gregorio"
   ]
  },
  {
   "cell_type": "code",
   "execution_count": null,
   "id": "974c4205-ea6f-4782-bd77-f60387472ced",
   "metadata": {},
   "outputs": [],
   "source": []
  }
 ],
 "metadata": {
  "kernelspec": {
   "display_name": "Python",
   "language": "python",
   "name": "conda-env-python-py"
  },
  "language_info": {
   "codemirror_mode": {
    "name": "ipython",
    "version": 3
   },
   "file_extension": ".py",
   "mimetype": "text/x-python",
   "name": "python",
   "nbconvert_exporter": "python",
   "pygments_lexer": "ipython3",
   "version": "3.7.12"
  }
 },
 "nbformat": 4,
 "nbformat_minor": 5
}
